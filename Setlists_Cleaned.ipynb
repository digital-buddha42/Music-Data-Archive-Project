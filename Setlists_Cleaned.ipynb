{
 "cells": [
  {
   "attachments": {},
   "cell_type": "markdown",
   "metadata": {},
   "source": [
    "Starting from a cleaned excel doc with ideally same number of columns in each tab."
   ]
  },
  {
   "cell_type": "code",
   "execution_count": null,
   "metadata": {},
   "outputs": [],
   "source": [
    "import os\n",
    "import pandas as pd\n",
    "import datetime"
   ]
  },
  {
   "cell_type": "code",
   "execution_count": null,
   "metadata": {},
   "outputs": [],
   "source": [
    "# Import the excel file into a dataframe and store as a variable xl_file\n",
    "filename = 'Biscuits_Spreadsheet_v2.xlsx'\n",
    "xl_file = pd.ExcelFile(filename)\n"
   ]
  },
  {
   "cell_type": "code",
   "execution_count": null,
   "metadata": {},
   "outputs": [],
   "source": [
    "# Use index slicing to remove last 5 sheetnames so we are left with only years.\n",
    "sheet_names = xl_file.sheet_names[:-5]\n",
    "\n",
    "# Use concat to read in only the filtered sheetnames from original file into a new dataframe tdb_dates            \n",
    "tdb_dates = pd.concat(pd.read_excel(filename, sheet_name=sheet_names), ignore_index=True)\n",
    "\n",
    "# loop through each sheet and print the number of columns \n",
    "sheet_data_dict = pd.read_excel(filename, sheet_name=sheet_names)"
   ]
  },
  {
   "cell_type": "code",
   "execution_count": null,
   "metadata": {},
   "outputs": [],
   "source": [
    "# View the dictionary preview\n",
    "sheet_data_dict"
   ]
  },
  {
   "cell_type": "code",
   "execution_count": null,
   "metadata": {},
   "outputs": [],
   "source": [
    "# Practice iterating through sheet_data_dict\n",
    "\n",
    "# Iterating through key, value pairs using items method\n",
    "\n",
    "for sheetname, df in sheet_data_dict.items():\n",
    "    print(sheetname,len(df.columns), list(df.columns))\n"
   ]
  },
  {
   "cell_type": "code",
   "execution_count": 18,
   "metadata": {},
   "outputs": [],
   "source": [
    "# Get the current date in YYYYMMDD format\n",
    "date_str = datetime.datetime.now().strftime('%Y%m%d')\n"
   ]
  },
  {
   "cell_type": "code",
   "execution_count": 19,
   "metadata": {},
   "outputs": [],
   "source": [
    "# Create a file name with the current date as a prefix\n",
    "newfilename = f'{date_str}_Biscuits_Spreadsheet.xlsx'"
   ]
  },
  {
   "cell_type": "code",
   "execution_count": 20,
   "metadata": {},
   "outputs": [],
   "source": [
    "# Write the dataframes to the file\n",
    "with pd.ExcelWriter(newfilename) as writer:\n",
    "    for sheet_name, df in sheet_data_dict.items():\n",
    "        df.to_excel(writer, sheet_name=sheet_name, index=False)"
   ]
  },
  {
   "cell_type": "code",
   "execution_count": null,
   "metadata": {},
   "outputs": [],
   "source": []
  }
 ],
 "metadata": {
  "kernelspec": {
   "display_name": "base",
   "language": "python",
   "name": "python3"
  },
  "language_info": {
   "codemirror_mode": {
    "name": "ipython",
    "version": 3
   },
   "file_extension": ".py",
   "mimetype": "text/x-python",
   "name": "python",
   "nbconvert_exporter": "python",
   "pygments_lexer": "ipython3",
   "version": "3.9.13"
  },
  "orig_nbformat": 4
 },
 "nbformat": 4,
 "nbformat_minor": 2
}
