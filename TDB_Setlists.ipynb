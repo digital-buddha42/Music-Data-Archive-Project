{
 "cells": [
  {
   "cell_type": "code",
   "execution_count": 1,
   "metadata": {},
   "outputs": [],
   "source": [
    "import pandas as pd\n",
    "import os "
   ]
  },
  {
   "cell_type": "code",
   "execution_count": 2,
   "metadata": {},
   "outputs": [
    {
     "name": "stdout",
     "output_type": "stream",
     "text": [
      "/Users/alecb/OneDrive/Desktop/Dropbox/Files/Bands/Biscuits Spreadsheet.xlsx\n",
      "File exists and path points to a file\n"
     ]
    }
   ],
   "source": [
    "filename = \"/Users/alecb/OneDrive/Desktop/Dropbox/Files/Bands/Biscuits Spreadsheet.xlsx\"\n",
    "# Print the path variable to make sure it contains the correct file path\n",
    "print(filename)\n",
    "\n",
    "# Check if the file exists\n",
    "if os.path.exists(filename):\n",
    "    # Check if the path points to a file\n",
    "    if os.path.isfile(filename):\n",
    "        print('File exists and path points to a file')\n",
    "    else:\n",
    "        print('Path points to a directory, not a file')\n",
    "else:\n",
    "    print('File does not exist')\n"
   ]
  },
  {
   "cell_type": "code",
   "execution_count": 3,
   "metadata": {},
   "outputs": [],
   "source": [
    "xl_file = pd.ExcelFile(filename)"
   ]
  },
  {
   "cell_type": "code",
   "execution_count": 4,
   "metadata": {},
   "outputs": [],
   "source": [
    "combined_data = pd.DataFrame()"
   ]
  },
  {
   "cell_type": "code",
   "execution_count": 5,
   "metadata": {},
   "outputs": [],
   "source": [
    "sheet_names = xl_file.sheet_names\n",
    "setlist_sheet_names = xl_file.sheet_names[:-5]"
   ]
  },
  {
   "cell_type": "code",
   "execution_count": null,
   "metadata": {},
   "outputs": [],
   "source": [
    "print(setlist_sheet_names)"
   ]
  },
  {
   "cell_type": "code",
   "execution_count": 6,
   "metadata": {},
   "outputs": [
    {
     "name": "stderr",
     "output_type": "stream",
     "text": [
      "C:\\Users\\alecb\\AppData\\Local\\Temp\\ipykernel_42068\\1525758567.py:3: FutureWarning: The frame.append method is deprecated and will be removed from pandas in a future version. Use pandas.concat instead.\n",
      "  combined_data = combined_data.append(sheet_data)\n",
      "C:\\Users\\alecb\\AppData\\Local\\Temp\\ipykernel_42068\\1525758567.py:3: FutureWarning: The frame.append method is deprecated and will be removed from pandas in a future version. Use pandas.concat instead.\n",
      "  combined_data = combined_data.append(sheet_data)\n",
      "C:\\Users\\alecb\\AppData\\Local\\Temp\\ipykernel_42068\\1525758567.py:3: FutureWarning: The frame.append method is deprecated and will be removed from pandas in a future version. Use pandas.concat instead.\n",
      "  combined_data = combined_data.append(sheet_data)\n",
      "C:\\Users\\alecb\\AppData\\Local\\Temp\\ipykernel_42068\\1525758567.py:3: FutureWarning: The frame.append method is deprecated and will be removed from pandas in a future version. Use pandas.concat instead.\n",
      "  combined_data = combined_data.append(sheet_data)\n",
      "C:\\Users\\alecb\\AppData\\Local\\Temp\\ipykernel_42068\\1525758567.py:3: FutureWarning: The frame.append method is deprecated and will be removed from pandas in a future version. Use pandas.concat instead.\n",
      "  combined_data = combined_data.append(sheet_data)\n",
      "C:\\Users\\alecb\\AppData\\Local\\Temp\\ipykernel_42068\\1525758567.py:3: FutureWarning: The frame.append method is deprecated and will be removed from pandas in a future version. Use pandas.concat instead.\n",
      "  combined_data = combined_data.append(sheet_data)\n",
      "C:\\Users\\alecb\\AppData\\Local\\Temp\\ipykernel_42068\\1525758567.py:3: FutureWarning: The frame.append method is deprecated and will be removed from pandas in a future version. Use pandas.concat instead.\n",
      "  combined_data = combined_data.append(sheet_data)\n",
      "C:\\Users\\alecb\\AppData\\Local\\Temp\\ipykernel_42068\\1525758567.py:3: FutureWarning: The frame.append method is deprecated and will be removed from pandas in a future version. Use pandas.concat instead.\n",
      "  combined_data = combined_data.append(sheet_data)\n",
      "C:\\Users\\alecb\\AppData\\Local\\Temp\\ipykernel_42068\\1525758567.py:3: FutureWarning: The frame.append method is deprecated and will be removed from pandas in a future version. Use pandas.concat instead.\n",
      "  combined_data = combined_data.append(sheet_data)\n",
      "C:\\Users\\alecb\\AppData\\Local\\Temp\\ipykernel_42068\\1525758567.py:3: FutureWarning: The frame.append method is deprecated and will be removed from pandas in a future version. Use pandas.concat instead.\n",
      "  combined_data = combined_data.append(sheet_data)\n",
      "C:\\Users\\alecb\\AppData\\Local\\Temp\\ipykernel_42068\\1525758567.py:3: FutureWarning: The frame.append method is deprecated and will be removed from pandas in a future version. Use pandas.concat instead.\n",
      "  combined_data = combined_data.append(sheet_data)\n",
      "C:\\Users\\alecb\\AppData\\Local\\Temp\\ipykernel_42068\\1525758567.py:3: FutureWarning: The frame.append method is deprecated and will be removed from pandas in a future version. Use pandas.concat instead.\n",
      "  combined_data = combined_data.append(sheet_data)\n",
      "C:\\Users\\alecb\\AppData\\Local\\Temp\\ipykernel_42068\\1525758567.py:3: FutureWarning: The frame.append method is deprecated and will be removed from pandas in a future version. Use pandas.concat instead.\n",
      "  combined_data = combined_data.append(sheet_data)\n",
      "C:\\Users\\alecb\\AppData\\Local\\Temp\\ipykernel_42068\\1525758567.py:3: FutureWarning: The frame.append method is deprecated and will be removed from pandas in a future version. Use pandas.concat instead.\n",
      "  combined_data = combined_data.append(sheet_data)\n",
      "C:\\Users\\alecb\\AppData\\Local\\Temp\\ipykernel_42068\\1525758567.py:3: FutureWarning: The frame.append method is deprecated and will be removed from pandas in a future version. Use pandas.concat instead.\n",
      "  combined_data = combined_data.append(sheet_data)\n",
      "C:\\Users\\alecb\\AppData\\Local\\Temp\\ipykernel_42068\\1525758567.py:3: FutureWarning: The frame.append method is deprecated and will be removed from pandas in a future version. Use pandas.concat instead.\n",
      "  combined_data = combined_data.append(sheet_data)\n",
      "C:\\Users\\alecb\\AppData\\Local\\Temp\\ipykernel_42068\\1525758567.py:3: FutureWarning: The frame.append method is deprecated and will be removed from pandas in a future version. Use pandas.concat instead.\n",
      "  combined_data = combined_data.append(sheet_data)\n",
      "C:\\Users\\alecb\\AppData\\Local\\Temp\\ipykernel_42068\\1525758567.py:3: FutureWarning: The frame.append method is deprecated and will be removed from pandas in a future version. Use pandas.concat instead.\n",
      "  combined_data = combined_data.append(sheet_data)\n",
      "C:\\Users\\alecb\\AppData\\Local\\Temp\\ipykernel_42068\\1525758567.py:3: FutureWarning: The frame.append method is deprecated and will be removed from pandas in a future version. Use pandas.concat instead.\n",
      "  combined_data = combined_data.append(sheet_data)\n",
      "C:\\Users\\alecb\\AppData\\Local\\Temp\\ipykernel_42068\\1525758567.py:3: FutureWarning: The frame.append method is deprecated and will be removed from pandas in a future version. Use pandas.concat instead.\n",
      "  combined_data = combined_data.append(sheet_data)\n",
      "C:\\Users\\alecb\\AppData\\Local\\Temp\\ipykernel_42068\\1525758567.py:3: FutureWarning: The frame.append method is deprecated and will be removed from pandas in a future version. Use pandas.concat instead.\n",
      "  combined_data = combined_data.append(sheet_data)\n",
      "C:\\Users\\alecb\\AppData\\Local\\Temp\\ipykernel_42068\\1525758567.py:3: FutureWarning: The frame.append method is deprecated and will be removed from pandas in a future version. Use pandas.concat instead.\n",
      "  combined_data = combined_data.append(sheet_data)\n",
      "C:\\Users\\alecb\\AppData\\Local\\Temp\\ipykernel_42068\\1525758567.py:3: FutureWarning: The frame.append method is deprecated and will be removed from pandas in a future version. Use pandas.concat instead.\n",
      "  combined_data = combined_data.append(sheet_data)\n",
      "C:\\Users\\alecb\\AppData\\Local\\Temp\\ipykernel_42068\\1525758567.py:3: FutureWarning: The frame.append method is deprecated and will be removed from pandas in a future version. Use pandas.concat instead.\n",
      "  combined_data = combined_data.append(sheet_data)\n",
      "C:\\Users\\alecb\\AppData\\Local\\Temp\\ipykernel_42068\\1525758567.py:3: FutureWarning: The frame.append method is deprecated and will be removed from pandas in a future version. Use pandas.concat instead.\n",
      "  combined_data = combined_data.append(sheet_data)\n"
     ]
    }
   ],
   "source": [
    "for sheet_name in setlist_sheet_names:\n",
    "    sheet_data = xl_file.parse(sheet_name)\n",
    "    combined_data = combined_data.append(sheet_data)"
   ]
  },
  {
   "cell_type": "code",
   "execution_count": 7,
   "metadata": {},
   "outputs": [
    {
     "name": "stdout",
     "output_type": "stream",
     "text": [
      "                   Date               Venue            City State  SBD  AUD  \\\n",
      "0   1997-01-17 00:00:00      Blarney Stone     Philadelphia    PA   No  Yes   \n",
      "1   1997-01-30 00:00:00  Wetlands Preserve         New York    NY  Yes  Yes   \n",
      "2   1997-02-05 00:00:00     Club Metronome       Burlington    VT  Yes   No   \n",
      "3   1997-02-06 00:00:00        Valentine's           Albany    NY   No   No   \n",
      "4   1997-02-08 00:00:00        Middle East        Cambridge    Ma  Yes   No   \n",
      "..                  ...                 ...             ...   ...  ...  ...   \n",
      "42  2021-12-04 00:00:00            Holidaze  Puerto Morelos    MX   No  NaN   \n",
      "43  2021-12-05 00:00:00            Holidaze  Puerto Morelos    MX  Yes  NaN   \n",
      "44  2021-12-07 00:00:00            Holidaze  Puerto Morelos    MX  Yes  NaN   \n",
      "45  2021-12-30 00:00:00            Fillmore    Philadelphia    PA  Yes  NaN   \n",
      "46  2021-12-31 00:00:00            Fillmore    Philadelphia    PA  Yes  NaN   \n",
      "\n",
      "                   Notes Unnamed: 7  Aud  \n",
      "0                    NaN        NaN  NaN  \n",
      "1   Rich Steele transfer        NaN  NaN  \n",
      "2                    NaN        NaN  NaN  \n",
      "3                    NaN        NaN  NaN  \n",
      "4                    NaN        NaN  NaN  \n",
      "..                   ...        ...  ...  \n",
      "42                   NaN        NaN   No  \n",
      "43                   NaN        NaN   No  \n",
      "44                   NaN        NaN   No  \n",
      "45                   NaN        NaN  Yes  \n",
      "46                   NaN        NaN  Yes  \n",
      "\n",
      "[1554 rows x 9 columns]\n"
     ]
    }
   ],
   "source": [
    "print(combined_data)"
   ]
  },
  {
   "cell_type": "code",
   "execution_count": 8,
   "metadata": {},
   "outputs": [],
   "source": [
    "db_setlists = combined_data"
   ]
  },
  {
   "attachments": {},
   "cell_type": "markdown",
   "metadata": {},
   "source": [
    "There seems to be some hidden nonsense between the sheets..."
   ]
  },
  {
   "cell_type": "code",
   "execution_count": 9,
   "metadata": {},
   "outputs": [
    {
     "name": "stdout",
     "output_type": "stream",
     "text": [
      "                   Date                       Venue            City State  \\\n",
      "27  2021-09-17 00:00:00  St. Augustine Amphitheater   St. Augustine    FL   \n",
      "28  2021-09-18 00:00:00            Revoluntion Live  Ft. Lauderdale    FL   \n",
      "29  2021-09-19 00:00:00               Janus Landing  St. Petersburg    FL   \n",
      "30  2021-09-26 00:00:00             Brooklyn Mirage        Brooklyn    NY   \n",
      "31  2021-10-15 00:00:00      Mishawaka Amphitheater        Bellevue    CO   \n",
      "32  2021-10-16 00:00:00      Mishawaka Amphitheater        Bellevue    CO   \n",
      "33  2021-10-17 00:00:00      Mishawaka Amphitheater        Bellevue    CO   \n",
      "34  2021-10-28 00:00:00               Brooklyn Bowl       Las Vegas    NV   \n",
      "35  2021-10-29 00:00:00               Brooklyn Bowl       Las Vegas    NV   \n",
      "36  2021-10-30 00:00:00               Brooklyn Bowl       Las Vegas    NV   \n",
      "37  2021-11-19 00:00:00                 The Caverns          Pelham    TN   \n",
      "38  2021-11-20 00:00:00                 The Caverns          Pelham    TN   \n",
      "39  2021-11-21 00:00:00                 The Caverns          Pelham    TN   \n",
      "40  2021-11-26 00:00:00            Wellmont Theater       Wellmont     NJ   \n",
      "41  2021-11-27 00:00:00            Wellmont Theater       Wellmont     NJ   \n",
      "42  2021-12-04 00:00:00                    Holidaze  Puerto Morelos    MX   \n",
      "43  2021-12-05 00:00:00                    Holidaze  Puerto Morelos    MX   \n",
      "44  2021-12-07 00:00:00                    Holidaze  Puerto Morelos    MX   \n",
      "45  2021-12-30 00:00:00                    Fillmore    Philadelphia    PA   \n",
      "46  2021-12-31 00:00:00                    Fillmore    Philadelphia    PA   \n",
      "\n",
      "    SBD  AUD Notes Unnamed: 7  Aud  \n",
      "27   No  NaN   NaN        NaN   No  \n",
      "28  Yes  NaN   NaN        NaN  Yes  \n",
      "29  Yes  NaN   NaN        NaN  Yes  \n",
      "30  Yes  NaN   NaN        NaN   No  \n",
      "31  Yes  NaN   NaN        NaN  Yes  \n",
      "32  Yes  NaN   NaN        NaN  Yes  \n",
      "33  Yes  NaN   NaN        NaN  Yes  \n",
      "34  Yes  NaN   NaN        NaN  Yes  \n",
      "35  Yes  NaN   NaN        NaN  Yes  \n",
      "36  Yes  NaN   NaN        NaN  Yes  \n",
      "37  Yes  NaN   NaN        NaN  Yes  \n",
      "38  Yes  NaN   NaN        NaN  Yes  \n",
      "39  Yes  NaN   NaN        NaN  Yes  \n",
      "40  Yes  NaN   NaN        NaN   No  \n",
      "41  Yes  NaN   NaN        NaN  Yes  \n",
      "42   No  NaN   NaN        NaN   No  \n",
      "43  Yes  NaN   NaN        NaN   No  \n",
      "44  Yes  NaN   NaN        NaN   No  \n",
      "45  Yes  NaN   NaN        NaN  Yes  \n",
      "46  Yes  NaN   NaN        NaN  Yes  \n"
     ]
    }
   ],
   "source": [
    "print(db_setlists.tail(20))"
   ]
  },
  {
   "cell_type": "code",
   "execution_count": null,
   "metadata": {},
   "outputs": [],
   "source": [
    "pd.to_datetime(db_setlists['Date'])\n",
    "db_setlists['Year'] = db_setlists['Date'].dt.year\n",
    "\n"
   ]
  },
  {
   "cell_type": "code",
   "execution_count": null,
   "metadata": {},
   "outputs": [],
   "source": []
  }
 ],
 "metadata": {
  "kernelspec": {
   "display_name": "base",
   "language": "python",
   "name": "python3"
  },
  "language_info": {
   "codemirror_mode": {
    "name": "ipython",
    "version": 3
   },
   "file_extension": ".py",
   "mimetype": "text/x-python",
   "name": "python",
   "nbconvert_exporter": "python",
   "pygments_lexer": "ipython3",
   "version": "3.9.13"
  },
  "orig_nbformat": 4
 },
 "nbformat": 4,
 "nbformat_minor": 2
}
