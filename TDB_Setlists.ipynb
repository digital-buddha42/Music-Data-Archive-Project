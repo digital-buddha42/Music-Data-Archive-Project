{
 "cells": [
  {
   "cell_type": "code",
   "execution_count": 53,
   "metadata": {},
   "outputs": [],
   "source": [
    "import pandas as pd\n",
    "import os \n",
    "import openpyxl"
   ]
  },
  {
   "cell_type": "code",
   "execution_count": 54,
   "metadata": {},
   "outputs": [
    {
     "name": "stdout",
     "output_type": "stream",
     "text": [
      "/Users/alecb/OneDrive/Desktop/Dropbox/Files/Bands/Biscuits Spreadsheet.xlsx\n",
      "File exists and path points to a file\n"
     ]
    }
   ],
   "source": [
    "filename = \"/Users/alecb/OneDrive/Desktop/Dropbox/Files/Bands/Biscuits Spreadsheet.xlsx\"\n",
    "wb = openpyxl.load_workbook(\"/Users/alecb/OneDrive/Desktop/Dropbox/Files/Bands/Biscuits Spreadsheet.xlsx\")\n",
    "# Print the path variable to make sure it contains the correct file path\n",
    "print(filename)\n",
    "\n",
    "# Check if the file exists\n",
    "if os.path.exists(filename):\n",
    "    # Check if the path points to a file\n",
    "    if os.path.isfile(filename):\n",
    "        print('File exists and path points to a file')\n",
    "    else:\n",
    "        print('Path points to a directory, not a file')\n",
    "else:\n",
    "    print('File does not exist')\n"
   ]
  },
  {
   "cell_type": "code",
   "execution_count": 55,
   "metadata": {},
   "outputs": [],
   "source": [
    "dfs = {}"
   ]
  },
  {
   "cell_type": "code",
   "execution_count": 56,
   "metadata": {},
   "outputs": [],
   "source": [
    "xl_file = pd.ExcelFile(filename)"
   ]
  },
  {
   "cell_type": "code",
   "execution_count": 57,
   "metadata": {},
   "outputs": [],
   "source": [
    "combined_data = pd.DataFrame()"
   ]
  },
  {
   "cell_type": "code",
   "execution_count": 58,
   "metadata": {},
   "outputs": [],
   "source": [
    "sheet_names = xl_file.sheet_names\n",
    "setlist_sheet_names = xl_file.sheet_names[:-5]"
   ]
  },
  {
   "cell_type": "code",
   "execution_count": 60,
   "metadata": {},
   "outputs": [],
   "source": [
    "for sheet_name in wb.sheetnames:\n",
    "    ws = wb[sheet_name]\n",
    "    new_sheet_name = \"db_\" + sheet_name\n",
    "    ws.title = new_sheet_name\n",
    "wb.save(\"/Users/alecb/OneDrive/Desktop/Dropbox/Files/Bands/Biscuits_Spreadsheet_v1.xlsx\")"
   ]
  },
  {
   "attachments": {},
   "cell_type": "markdown",
   "metadata": {},
   "source": [
    "The above steps were needed to rename the sheets to not be years! Now we can maybe easily view each year as its own dataframe and clean the data.\n"
   ]
  },
  {
   "cell_type": "code",
   "execution_count": null,
   "metadata": {},
   "outputs": [
    {
     "name": "stdout",
     "output_type": "stream",
     "text": [
      "/Users/alecb/OneDrive/Desktop/Dropbox/Files/Bands/Biscuits Spreadsheet.xlsx\n",
      "File exists and path points to a file\n"
     ]
    }
   ],
   "source": [
    "filename = \"/Users/alecb/OneDrive/Desktop/Dropbox/Files/Bands/Biscuits Spreadsheet.xlsx\"\n",
    "wb = openpyxl.load_workbook(\"/Users/alecb/OneDrive/Desktop/Dropbox/Files/Bands/Biscuits Spreadsheet.xlsx\")\n",
    "# Print the path variable to make sure it contains the correct file path\n",
    "print(filename)\n",
    "\n",
    "# Check if the file exists\n",
    "if os.path.exists(filename):\n",
    "    # Check if the path points to a file\n",
    "    if os.path.isfile(filename):\n",
    "        print('File exists and path points to a file')\n",
    "    else:\n",
    "        print('Path points to a directory, not a file')\n",
    "else:\n",
    "    print('File does not exist')\n"
   ]
  },
  {
   "cell_type": "code",
   "execution_count": null,
   "metadata": {},
   "outputs": [],
   "source": [
    "for sheet in setlist_sheet_names:\n",
    "    dfs[sheet] = pd.read_excel(filename, sheet_name= sheet)"
   ]
  },
  {
   "cell_type": "code",
   "execution_count": null,
   "metadata": {},
   "outputs": [],
   "source": [
    "for sheet, df in dfs.items():\n",
    "    print(f\"{sheet}:\\n{df.head(10)}\\n\")"
   ]
  },
  {
   "cell_type": "code",
   "execution_count": null,
   "metadata": {},
   "outputs": [],
   "source": [
    "dfs.items()"
   ]
  },
  {
   "cell_type": "code",
   "execution_count": null,
   "metadata": {},
   "outputs": [],
   "source": [
    "print(setlist_sheet_names)"
   ]
  },
  {
   "cell_type": "code",
   "execution_count": null,
   "metadata": {},
   "outputs": [],
   "source": [
    "for sheet_name in setlist_sheet_names:\n",
    "    sheet_data = xl_file.parse(sheet_name)\n",
    "    combined_data = combined_data.append(sheet_data)"
   ]
  },
  {
   "cell_type": "code",
   "execution_count": null,
   "metadata": {},
   "outputs": [],
   "source": [
    "print(combined_data)"
   ]
  },
  {
   "cell_type": "code",
   "execution_count": null,
   "metadata": {},
   "outputs": [],
   "source": [
    "db_setlists = combined_data"
   ]
  },
  {
   "attachments": {},
   "cell_type": "markdown",
   "metadata": {},
   "source": [
    "There seems to be some hidden nonsense between the sheets..."
   ]
  },
  {
   "cell_type": "code",
   "execution_count": null,
   "metadata": {},
   "outputs": [],
   "source": [
    "print(db_setlists.tail(20))"
   ]
  },
  {
   "cell_type": "code",
   "execution_count": null,
   "metadata": {},
   "outputs": [],
   "source": [
    "pd.to_datetime(db_setlists['Date'])\n",
    "db_setlists['Year'] = db_setlists['Date'].dt.year\n",
    "\n"
   ]
  },
  {
   "cell_type": "code",
   "execution_count": null,
   "metadata": {},
   "outputs": [],
   "source": []
  }
 ],
 "metadata": {
  "kernelspec": {
   "display_name": "base",
   "language": "python",
   "name": "python3"
  },
  "language_info": {
   "codemirror_mode": {
    "name": "ipython",
    "version": 3
   },
   "file_extension": ".py",
   "mimetype": "text/x-python",
   "name": "python",
   "nbconvert_exporter": "python",
   "pygments_lexer": "ipython3",
   "version": "3.9.13"
  },
  "orig_nbformat": 4
 },
 "nbformat": 4,
 "nbformat_minor": 2
}
