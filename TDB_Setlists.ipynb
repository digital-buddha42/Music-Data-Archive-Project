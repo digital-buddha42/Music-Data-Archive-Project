{
 "cells": [
  {
   "cell_type": "code",
   "execution_count": 4,
   "metadata": {},
   "outputs": [],
   "source": [
    "import pandas as pd\n",
    "import os "
   ]
  },
  {
   "cell_type": "code",
   "execution_count": 5,
   "metadata": {},
   "outputs": [
    {
     "name": "stdout",
     "output_type": "stream",
     "text": [
      "/Users/alecb/OneDrive/Desktop/Dropbox/Files/Bands/Biscuits Spreadsheet.xlsx\n",
      "File exists and path points to a file\n"
     ]
    }
   ],
   "source": [
    "filename = \"/Users/alecb/OneDrive/Desktop/Dropbox/Files/Bands/Biscuits Spreadsheet.xlsx\"\n",
    "# Print the path variable to make sure it contains the correct file path\n",
    "print(filename)\n",
    "\n",
    "# Check if the file exists\n",
    "if os.path.exists(filename):\n",
    "    # Check if the path points to a file\n",
    "    if os.path.isfile(filename):\n",
    "        print('File exists and path points to a file')\n",
    "    else:\n",
    "        print('Path points to a directory, not a file')\n",
    "else:\n",
    "    print('File does not exist')\n"
   ]
  },
  {
   "cell_type": "code",
   "execution_count": 6,
   "metadata": {},
   "outputs": [],
   "source": [
    "xl_file = pd.ExcelFile(filename)"
   ]
  },
  {
   "cell_type": "code",
   "execution_count": 7,
   "metadata": {},
   "outputs": [],
   "source": [
    "combined_data = pd.DataFrame()"
   ]
  },
  {
   "cell_type": "code",
   "execution_count": 8,
   "metadata": {},
   "outputs": [],
   "source": [
    "sheet_names = xl_file.sheet_names\n",
    "setlist_sheet_names = xl_file.sheet_names[:-5]"
   ]
  },
  {
   "cell_type": "code",
   "execution_count": 9,
   "metadata": {},
   "outputs": [
    {
     "name": "stdout",
     "output_type": "stream",
     "text": [
      "['1997', '1998', '1999', '2000', '2001', '2002', '2003', '2004', '2005', '2006', '2007', '2008', '2009', '2010', '2011', '2012', '2013', '2014', '2015', '2016', '2017', '2018', '2019', '2020', '2021']\n"
     ]
    }
   ],
   "source": [
    "print(setlist_sheet_names)"
   ]
  },
  {
   "cell_type": "code",
   "execution_count": 10,
   "metadata": {},
   "outputs": [
    {
     "name": "stderr",
     "output_type": "stream",
     "text": [
      "C:\\Users\\alecb\\AppData\\Local\\Temp\\ipykernel_42696\\3229443601.py:3: FutureWarning: The frame.append method is deprecated and will be removed from pandas in a future version. Use pandas.concat instead.\n",
      "  combined_data = combined_data.append(sheet_data)\n",
      "C:\\Users\\alecb\\AppData\\Local\\Temp\\ipykernel_42696\\3229443601.py:3: FutureWarning: The frame.append method is deprecated and will be removed from pandas in a future version. Use pandas.concat instead.\n",
      "  combined_data = combined_data.append(sheet_data)\n",
      "C:\\Users\\alecb\\AppData\\Local\\Temp\\ipykernel_42696\\3229443601.py:3: FutureWarning: The frame.append method is deprecated and will be removed from pandas in a future version. Use pandas.concat instead.\n",
      "  combined_data = combined_data.append(sheet_data)\n",
      "C:\\Users\\alecb\\AppData\\Local\\Temp\\ipykernel_42696\\3229443601.py:3: FutureWarning: The frame.append method is deprecated and will be removed from pandas in a future version. Use pandas.concat instead.\n",
      "  combined_data = combined_data.append(sheet_data)\n",
      "C:\\Users\\alecb\\AppData\\Local\\Temp\\ipykernel_42696\\3229443601.py:3: FutureWarning: The frame.append method is deprecated and will be removed from pandas in a future version. Use pandas.concat instead.\n",
      "  combined_data = combined_data.append(sheet_data)\n",
      "C:\\Users\\alecb\\AppData\\Local\\Temp\\ipykernel_42696\\3229443601.py:3: FutureWarning: The frame.append method is deprecated and will be removed from pandas in a future version. Use pandas.concat instead.\n",
      "  combined_data = combined_data.append(sheet_data)\n",
      "C:\\Users\\alecb\\AppData\\Local\\Temp\\ipykernel_42696\\3229443601.py:3: FutureWarning: The frame.append method is deprecated and will be removed from pandas in a future version. Use pandas.concat instead.\n",
      "  combined_data = combined_data.append(sheet_data)\n",
      "C:\\Users\\alecb\\AppData\\Local\\Temp\\ipykernel_42696\\3229443601.py:3: FutureWarning: The frame.append method is deprecated and will be removed from pandas in a future version. Use pandas.concat instead.\n",
      "  combined_data = combined_data.append(sheet_data)\n",
      "C:\\Users\\alecb\\AppData\\Local\\Temp\\ipykernel_42696\\3229443601.py:3: FutureWarning: The frame.append method is deprecated and will be removed from pandas in a future version. Use pandas.concat instead.\n",
      "  combined_data = combined_data.append(sheet_data)\n",
      "C:\\Users\\alecb\\AppData\\Local\\Temp\\ipykernel_42696\\3229443601.py:3: FutureWarning: The frame.append method is deprecated and will be removed from pandas in a future version. Use pandas.concat instead.\n",
      "  combined_data = combined_data.append(sheet_data)\n",
      "C:\\Users\\alecb\\AppData\\Local\\Temp\\ipykernel_42696\\3229443601.py:3: FutureWarning: The frame.append method is deprecated and will be removed from pandas in a future version. Use pandas.concat instead.\n",
      "  combined_data = combined_data.append(sheet_data)\n",
      "C:\\Users\\alecb\\AppData\\Local\\Temp\\ipykernel_42696\\3229443601.py:3: FutureWarning: The frame.append method is deprecated and will be removed from pandas in a future version. Use pandas.concat instead.\n",
      "  combined_data = combined_data.append(sheet_data)\n",
      "C:\\Users\\alecb\\AppData\\Local\\Temp\\ipykernel_42696\\3229443601.py:3: FutureWarning: The frame.append method is deprecated and will be removed from pandas in a future version. Use pandas.concat instead.\n",
      "  combined_data = combined_data.append(sheet_data)\n",
      "C:\\Users\\alecb\\AppData\\Local\\Temp\\ipykernel_42696\\3229443601.py:3: FutureWarning: The frame.append method is deprecated and will be removed from pandas in a future version. Use pandas.concat instead.\n",
      "  combined_data = combined_data.append(sheet_data)\n",
      "C:\\Users\\alecb\\AppData\\Local\\Temp\\ipykernel_42696\\3229443601.py:3: FutureWarning: The frame.append method is deprecated and will be removed from pandas in a future version. Use pandas.concat instead.\n",
      "  combined_data = combined_data.append(sheet_data)\n",
      "C:\\Users\\alecb\\AppData\\Local\\Temp\\ipykernel_42696\\3229443601.py:3: FutureWarning: The frame.append method is deprecated and will be removed from pandas in a future version. Use pandas.concat instead.\n",
      "  combined_data = combined_data.append(sheet_data)\n",
      "C:\\Users\\alecb\\AppData\\Local\\Temp\\ipykernel_42696\\3229443601.py:3: FutureWarning: The frame.append method is deprecated and will be removed from pandas in a future version. Use pandas.concat instead.\n",
      "  combined_data = combined_data.append(sheet_data)\n",
      "C:\\Users\\alecb\\AppData\\Local\\Temp\\ipykernel_42696\\3229443601.py:3: FutureWarning: The frame.append method is deprecated and will be removed from pandas in a future version. Use pandas.concat instead.\n",
      "  combined_data = combined_data.append(sheet_data)\n",
      "C:\\Users\\alecb\\AppData\\Local\\Temp\\ipykernel_42696\\3229443601.py:3: FutureWarning: The frame.append method is deprecated and will be removed from pandas in a future version. Use pandas.concat instead.\n",
      "  combined_data = combined_data.append(sheet_data)\n",
      "C:\\Users\\alecb\\AppData\\Local\\Temp\\ipykernel_42696\\3229443601.py:3: FutureWarning: The frame.append method is deprecated and will be removed from pandas in a future version. Use pandas.concat instead.\n",
      "  combined_data = combined_data.append(sheet_data)\n",
      "C:\\Users\\alecb\\AppData\\Local\\Temp\\ipykernel_42696\\3229443601.py:3: FutureWarning: The frame.append method is deprecated and will be removed from pandas in a future version. Use pandas.concat instead.\n",
      "  combined_data = combined_data.append(sheet_data)\n",
      "C:\\Users\\alecb\\AppData\\Local\\Temp\\ipykernel_42696\\3229443601.py:3: FutureWarning: The frame.append method is deprecated and will be removed from pandas in a future version. Use pandas.concat instead.\n",
      "  combined_data = combined_data.append(sheet_data)\n",
      "C:\\Users\\alecb\\AppData\\Local\\Temp\\ipykernel_42696\\3229443601.py:3: FutureWarning: The frame.append method is deprecated and will be removed from pandas in a future version. Use pandas.concat instead.\n",
      "  combined_data = combined_data.append(sheet_data)\n",
      "C:\\Users\\alecb\\AppData\\Local\\Temp\\ipykernel_42696\\3229443601.py:3: FutureWarning: The frame.append method is deprecated and will be removed from pandas in a future version. Use pandas.concat instead.\n",
      "  combined_data = combined_data.append(sheet_data)\n",
      "C:\\Users\\alecb\\AppData\\Local\\Temp\\ipykernel_42696\\3229443601.py:3: FutureWarning: The frame.append method is deprecated and will be removed from pandas in a future version. Use pandas.concat instead.\n",
      "  combined_data = combined_data.append(sheet_data)\n",
      "C:\\Users\\alecb\\AppData\\Local\\Temp\\ipykernel_42696\\3229443601.py:3: FutureWarning: The frame.append method is deprecated and will be removed from pandas in a future version. Use pandas.concat instead.\n",
      "  combined_data = combined_data.append(sheet_data)\n",
      "C:\\Users\\alecb\\AppData\\Local\\Temp\\ipykernel_42696\\3229443601.py:3: FutureWarning: The frame.append method is deprecated and will be removed from pandas in a future version. Use pandas.concat instead.\n",
      "  combined_data = combined_data.append(sheet_data)\n",
      "C:\\Users\\alecb\\AppData\\Local\\Temp\\ipykernel_42696\\3229443601.py:3: FutureWarning: The frame.append method is deprecated and will be removed from pandas in a future version. Use pandas.concat instead.\n",
      "  combined_data = combined_data.append(sheet_data)\n",
      "C:\\Users\\alecb\\AppData\\Local\\Temp\\ipykernel_42696\\3229443601.py:3: FutureWarning: The frame.append method is deprecated and will be removed from pandas in a future version. Use pandas.concat instead.\n",
      "  combined_data = combined_data.append(sheet_data)\n",
      "C:\\Users\\alecb\\AppData\\Local\\Temp\\ipykernel_42696\\3229443601.py:3: FutureWarning: The frame.append method is deprecated and will be removed from pandas in a future version. Use pandas.concat instead.\n",
      "  combined_data = combined_data.append(sheet_data)\n"
     ]
    }
   ],
   "source": [
    "for sheet_name in sheet_names:\n",
    "    sheet_data = xl_file.parse(sheet_name)\n",
    "    combined_data = combined_data.append(sheet_data)"
   ]
  },
  {
   "cell_type": "code",
   "execution_count": 11,
   "metadata": {},
   "outputs": [
    {
     "name": "stdout",
     "output_type": "stream",
     "text": [
      "                    Date               Venue          City State  SBD  AUD  \\\n",
      "0    1997-01-17 00:00:00      Blarney Stone   Philadelphia    PA   No  Yes   \n",
      "1    1997-01-30 00:00:00  Wetlands Preserve       New York    NY  Yes  Yes   \n",
      "2    1997-02-05 00:00:00     Club Metronome     Burlington    VT  Yes   No   \n",
      "3    1997-02-06 00:00:00        Valentine's         Albany    NY   No   No   \n",
      "4    1997-02-08 00:00:00        Middle East      Cambridge    Ma  Yes   No   \n",
      "..                   ...                 ...           ...   ...  ...  ...   \n",
      "652  2017-05-28 00:00:00                 NaN           NaN   NaN  NaN  NaN   \n",
      "653  2017-08-24 00:00:00                 NaN           NaN   NaN  NaN  NaN   \n",
      "654  2017-08-24 00:00:00                 NaN           NaN   NaN  NaN  NaN   \n",
      "655  2017-09-20 00:00:00                 NaN           NaN   NaN  NaN  NaN   \n",
      "656  2017-10-28 00:00:00                 NaN           NaN   NaN  NaN  NaN   \n",
      "\n",
      "                    Notes Unnamed: 7  Aud       ... Unnamed: 3 AUDUP&BDUP  \\\n",
      "0                     NaN        NaN  NaN  NaN  ...        NaN        NaN   \n",
      "1    Rich Steele transfer        NaN  NaN  NaN  ...        NaN        NaN   \n",
      "2                     NaN        NaN  NaN  NaN  ...        NaN        NaN   \n",
      "3                     NaN        NaN  NaN  NaN  ...        NaN        NaN   \n",
      "4                     NaN        NaN  NaN  NaN  ...        NaN        NaN   \n",
      "..                    ...        ...  ...  ...  ...        ...        ...   \n",
      "652                   NaN        NaN  NaN  NaN  ...        NaN        NaN   \n",
      "653                   NaN        NaN  NaN  NaN  ...        NaN        NaN   \n",
      "654                   NaN        NaN  NaN  NaN  ...        NaN        NaN   \n",
      "655                   NaN        NaN  NaN  NaN  ...        NaN        NaN   \n",
      "656                   NaN        NaN  NaN  NaN  ...        NaN        NaN   \n",
      "\n",
      "    AUDDUP BDUP UDUP MDUP AUDDUP.1 BDUP.1 UDUP.1  AUDUP&BDUP.1  \n",
      "0      NaN  NaN  NaN  NaN      NaN    NaN    NaN           NaN  \n",
      "1      NaN  NaN  NaN  NaN      NaN    NaN    NaN           NaN  \n",
      "2      NaN  NaN  NaN  NaN      NaN    NaN    NaN           NaN  \n",
      "3      NaN  NaN  NaN  NaN      NaN    NaN    NaN           NaN  \n",
      "4      NaN  NaN  NaN  NaN      NaN    NaN    NaN           NaN  \n",
      "..     ...  ...  ...  ...      ...    ...    ...           ...  \n",
      "652    NaN  NaN  NaN  NaN      NaN    NaN    NaN           NaN  \n",
      "653    NaN  NaN  NaN  NaN      NaN    NaN    NaN           NaN  \n",
      "654    NaN  NaN  NaN  NaN      NaN    NaN    NaN           NaN  \n",
      "655    NaN  NaN  NaN  NaN      NaN    NaN    NaN           NaN  \n",
      "656    NaN  NaN  NaN  NaN      NaN    NaN    NaN           NaN  \n",
      "\n",
      "[2833 rows x 29 columns]\n"
     ]
    }
   ],
   "source": [
    "print(combined_data)"
   ]
  },
  {
   "cell_type": "code",
   "execution_count": 12,
   "metadata": {},
   "outputs": [],
   "source": [
    "db_setlists = combined_data"
   ]
  },
  {
   "attachments": {},
   "cell_type": "markdown",
   "metadata": {},
   "source": [
    "There seems to be some hidden nonsense between the sheets..."
   ]
  },
  {
   "cell_type": "code",
   "execution_count": 14,
   "metadata": {},
   "outputs": [
    {
     "name": "stdout",
     "output_type": "stream",
     "text": [
      "                    Date Venue City State  SBD  AUD Notes Unnamed: 7  Aud  \\\n",
      "637  2016-04-21 00:00:00   NaN  NaN   NaN  NaN  NaN   NaN        NaN  NaN   \n",
      "638  2016-07-14 00:00:00   NaN  NaN   NaN  NaN  NaN   NaN        NaN  NaN   \n",
      "639  2016-07-14 00:00:00   NaN  NaN   NaN  NaN  NaN   NaN        NaN  NaN   \n",
      "640  2016-07-14 00:00:00   NaN  NaN   NaN  NaN  NaN   NaN        NaN  NaN   \n",
      "641  2016-07-14 00:00:00   NaN  NaN   NaN  NaN  NaN   NaN        NaN  NaN   \n",
      "642  2016-07-15 00:00:00   NaN  NaN   NaN  NaN  NaN   NaN        NaN  NaN   \n",
      "643  2016-07-15 00:00:00   NaN  NaN   NaN  NaN  NaN   NaN        NaN  NaN   \n",
      "644  2016-07-16 00:00:00   NaN  NaN   NaN  NaN  NaN   NaN        NaN  NaN   \n",
      "645  2016-07-16 00:00:00   NaN  NaN   NaN  NaN  NaN   NaN        NaN  NaN   \n",
      "646  2016-08-18 00:00:00   NaN  NaN   NaN  NaN  NaN   NaN        NaN  NaN   \n",
      "647  2016-08-20 00:00:00   NaN  NaN   NaN  NaN  NaN   NaN        NaN  NaN   \n",
      "648  2017-04-28 00:00:00   NaN  NaN   NaN  NaN  NaN   NaN        NaN  NaN   \n",
      "649  2017-04-29 00:00:00   NaN  NaN   NaN  NaN  NaN   NaN        NaN  NaN   \n",
      "650  2017-04-29 00:00:00   NaN  NaN   NaN  NaN  NaN   NaN        NaN  NaN   \n",
      "651  2017-05-28 00:00:00   NaN  NaN   NaN  NaN  NaN   NaN        NaN  NaN   \n",
      "652  2017-05-28 00:00:00   NaN  NaN   NaN  NaN  NaN   NaN        NaN  NaN   \n",
      "653  2017-08-24 00:00:00   NaN  NaN   NaN  NaN  NaN   NaN        NaN  NaN   \n",
      "654  2017-08-24 00:00:00   NaN  NaN   NaN  NaN  NaN   NaN        NaN  NaN   \n",
      "655  2017-09-20 00:00:00   NaN  NaN   NaN  NaN  NaN   NaN        NaN  NaN   \n",
      "656  2017-10-28 00:00:00   NaN  NaN   NaN  NaN  NaN   NaN        NaN  NaN   \n",
      "\n",
      "          ... Unnamed: 3 AUDUP&BDUP AUDDUP BDUP UDUP MDUP AUDDUP.1 BDUP.1  \\\n",
      "637  NaN  ...        NaN        NaN    NaN  NaN  NaN  NaN      NaN    NaN   \n",
      "638  NaN  ...        NaN        NaN    NaN  NaN  NaN  NaN      NaN    NaN   \n",
      "639  NaN  ...        NaN        NaN    NaN  NaN  NaN  NaN      NaN    NaN   \n",
      "640  NaN  ...        NaN        NaN    NaN  NaN  NaN  NaN      NaN    NaN   \n",
      "641  NaN  ...        NaN        NaN    NaN  NaN  NaN  NaN      NaN    NaN   \n",
      "642  NaN  ...        NaN        NaN    NaN  NaN  NaN  NaN      NaN    NaN   \n",
      "643  NaN  ...        NaN        NaN    NaN  NaN  NaN  NaN      NaN    NaN   \n",
      "644  NaN  ...        NaN        NaN    NaN  NaN  NaN  NaN      NaN    NaN   \n",
      "645  NaN  ...        NaN        NaN    NaN  NaN  NaN  NaN      NaN    NaN   \n",
      "646  NaN  ...        NaN        NaN    NaN  NaN  NaN  NaN      NaN    NaN   \n",
      "647  NaN  ...        NaN        NaN    NaN  NaN  NaN  NaN      NaN    NaN   \n",
      "648  NaN  ...        NaN        NaN    NaN  NaN  NaN  NaN      NaN    NaN   \n",
      "649  NaN  ...        NaN        NaN    NaN  NaN  NaN  NaN      NaN    NaN   \n",
      "650  NaN  ...        NaN        NaN    NaN  NaN  NaN  NaN      NaN    NaN   \n",
      "651  NaN  ...        NaN        NaN    NaN  NaN  NaN  NaN      NaN    NaN   \n",
      "652  NaN  ...        NaN        NaN    NaN  NaN  NaN  NaN      NaN    NaN   \n",
      "653  NaN  ...        NaN        NaN    NaN  NaN  NaN  NaN      NaN    NaN   \n",
      "654  NaN  ...        NaN        NaN    NaN  NaN  NaN  NaN      NaN    NaN   \n",
      "655  NaN  ...        NaN        NaN    NaN  NaN  NaN  NaN      NaN    NaN   \n",
      "656  NaN  ...        NaN        NaN    NaN  NaN  NaN  NaN      NaN    NaN   \n",
      "\n",
      "    UDUP.1  AUDUP&BDUP.1  \n",
      "637    NaN           NaN  \n",
      "638    NaN           NaN  \n",
      "639    NaN           NaN  \n",
      "640    NaN           NaN  \n",
      "641    NaN           NaN  \n",
      "642    NaN           NaN  \n",
      "643    NaN           NaN  \n",
      "644    NaN           NaN  \n",
      "645    NaN           NaN  \n",
      "646    NaN           NaN  \n",
      "647    NaN           NaN  \n",
      "648    NaN           NaN  \n",
      "649    NaN           NaN  \n",
      "650    NaN           NaN  \n",
      "651    NaN           NaN  \n",
      "652    NaN           NaN  \n",
      "653    NaN           NaN  \n",
      "654    NaN           NaN  \n",
      "655    NaN           NaN  \n",
      "656    NaN           NaN  \n",
      "\n",
      "[20 rows x 29 columns]\n"
     ]
    }
   ],
   "source": [
    "print(db_setlists.tail(20))"
   ]
  },
  {
   "cell_type": "code",
   "execution_count": null,
   "metadata": {},
   "outputs": [],
   "source": [
    "pd.to_datetime(db_setlists['Date'])\n",
    "db_setlists['Year'] = db_setlists['Date'].dt.year\n",
    "\n"
   ]
  },
  {
   "cell_type": "code",
   "execution_count": null,
   "metadata": {},
   "outputs": [],
   "source": []
  }
 ],
 "metadata": {
  "kernelspec": {
   "display_name": "base",
   "language": "python",
   "name": "python3"
  },
  "language_info": {
   "codemirror_mode": {
    "name": "ipython",
    "version": 3
   },
   "file_extension": ".py",
   "mimetype": "text/x-python",
   "name": "python",
   "nbconvert_exporter": "python",
   "pygments_lexer": "ipython3",
   "version": "3.9.13"
  },
  "orig_nbformat": 4
 },
 "nbformat": 4,
 "nbformat_minor": 2
}
